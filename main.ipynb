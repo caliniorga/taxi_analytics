{
 "cells": [
  {
   "cell_type": "code",
   "execution_count": 69,
   "id": "eb5ce125",
   "metadata": {},
   "outputs": [],
   "source": [
    "from pyspark.sql import SparkSession\n",
    "from pyspark.sql.functions import *"
   ]
  },
  {
   "cell_type": "markdown",
   "id": "72091251",
   "metadata": {},
   "source": [
    "Initialize spark session"
   ]
  },
  {
   "cell_type": "code",
   "execution_count": 70,
   "id": "678ae0be",
   "metadata": {},
   "outputs": [],
   "source": [
    "spark = SparkSession.builder.appName(\"taxi_tripdata\").getOrCreate()"
   ]
  },
  {
   "cell_type": "markdown",
   "id": "4ed71a52",
   "metadata": {},
   "source": [
    "Load data"
   ]
  },
  {
   "cell_type": "code",
   "execution_count": 71,
   "id": "80e0fa7b",
   "metadata": {},
   "outputs": [],
   "source": [
    "options = {\"header\": True, \"inferSchema\": True}\n",
    "taxi_tripdata = spark.read.options(**options).csv(r\"/Users/calin.iorga/Documents/Python projects/Spark learning/taxi_analytics/data/taxi_tripdata.csv\")\n",
    "taxi_zone = spark.read.options(**options).csv(r\"/Users/calin.iorga/Documents/Python projects/Spark learning/taxi_analytics/data/taxi_zone_lookup.csv\")"
   ]
  },
  {
   "cell_type": "markdown",
   "id": "a09b37dd",
   "metadata": {},
   "source": [
    "Print schema and few rows"
   ]
  },
  {
   "cell_type": "code",
   "execution_count": 72,
   "id": "a10ed0c4",
   "metadata": {},
   "outputs": [
    {
     "name": "stdout",
     "output_type": "stream",
     "text": [
      "root\n",
      " |-- VendorID: integer (nullable = true)\n",
      " |-- lpep_pickup_datetime: timestamp (nullable = true)\n",
      " |-- lpep_dropoff_datetime: timestamp (nullable = true)\n",
      " |-- store_and_fwd_flag: string (nullable = true)\n",
      " |-- RatecodeID: integer (nullable = true)\n",
      " |-- PULocationID: integer (nullable = true)\n",
      " |-- DOLocationID: integer (nullable = true)\n",
      " |-- passenger_count: integer (nullable = true)\n",
      " |-- trip_distance: double (nullable = true)\n",
      " |-- fare_amount: double (nullable = true)\n",
      " |-- extra: double (nullable = true)\n",
      " |-- mta_tax: double (nullable = true)\n",
      " |-- tip_amount: double (nullable = true)\n",
      " |-- tolls_amount: double (nullable = true)\n",
      " |-- ehail_fee: string (nullable = true)\n",
      " |-- improvement_surcharge: double (nullable = true)\n",
      " |-- total_amount: double (nullable = true)\n",
      " |-- payment_type: integer (nullable = true)\n",
      " |-- trip_type: integer (nullable = true)\n",
      " |-- congestion_surcharge: double (nullable = true)\n",
      "\n",
      "root\n",
      " |-- LocationID: integer (nullable = true)\n",
      " |-- Borough: string (nullable = true)\n",
      " |-- Zone: string (nullable = true)\n",
      " |-- service_zone: string (nullable = true)\n",
      "\n"
     ]
    }
   ],
   "source": [
    "taxi_tripdata.printSchema()\n",
    "taxi_zone.printSchema()"
   ]
  },
  {
   "cell_type": "code",
   "execution_count": 73,
   "id": "a8261d29",
   "metadata": {},
   "outputs": [
    {
     "name": "stdout",
     "output_type": "stream",
     "text": [
      "+--------+--------------------+---------------------+------------------+----------+------------+------------+---------------+-------------+-----------+-----+-------+----------+------------+---------+---------------------+------------+------------+---------+--------------------+\n",
      "|VendorID|lpep_pickup_datetime|lpep_dropoff_datetime|store_and_fwd_flag|RatecodeID|PULocationID|DOLocationID|passenger_count|trip_distance|fare_amount|extra|mta_tax|tip_amount|tolls_amount|ehail_fee|improvement_surcharge|total_amount|payment_type|trip_type|congestion_surcharge|\n",
      "+--------+--------------------+---------------------+------------------+----------+------------+------------+---------------+-------------+-----------+-----+-------+----------+------------+---------+---------------------+------------+------------+---------+--------------------+\n",
      "|       1| 2021-07-01 00:30:52|  2021-07-01 00:35:36|                 N|         1|          74|         168|              1|          1.2|        6.0|  0.5|    0.5|       0.0|         0.0|     NULL|                  0.3|         7.3|           2|        1|                 0.0|\n",
      "|       2| 2021-07-01 00:25:36|  2021-07-01 01:01:31|                 N|         1|         116|         265|              2|        13.69|       42.0|  0.5|    0.5|       0.0|         0.0|     NULL|                  0.3|        43.3|           2|        1|                 0.0|\n",
      "|       2| 2021-07-01 00:05:58|  2021-07-01 00:12:00|                 N|         1|          97|          33|              1|         0.95|        6.5|  0.5|    0.5|      2.34|         0.0|     NULL|                  0.3|       10.14|           1|        1|                 0.0|\n",
      "+--------+--------------------+---------------------+------------------+----------+------------+------------+---------------+-------------+-----------+-----+-------+----------+------------+---------+---------------------+------------+------------+---------+--------------------+\n",
      "only showing top 3 rows\n",
      "\n"
     ]
    }
   ],
   "source": [
    "taxi_tripdata.show(3)"
   ]
  },
  {
   "cell_type": "code",
   "execution_count": 74,
   "id": "b6835d30",
   "metadata": {},
   "outputs": [
    {
     "name": "stdout",
     "output_type": "stream",
     "text": [
      "+----------+-------+--------------------+------------+\n",
      "|LocationID|Borough|                Zone|service_zone|\n",
      "+----------+-------+--------------------+------------+\n",
      "|         1|    EWR|      Newark Airport|         EWR|\n",
      "|         2| Queens|         Jamaica Bay|   Boro Zone|\n",
      "|         3|  Bronx|Allerton/Pelham G...|   Boro Zone|\n",
      "+----------+-------+--------------------+------------+\n",
      "only showing top 3 rows\n",
      "\n"
     ]
    }
   ],
   "source": [
    "taxi_zone.show(3)"
   ]
  },
  {
   "cell_type": "markdown",
   "id": "bd4f1677",
   "metadata": {},
   "source": [
    "Clean and normalize data"
   ]
  },
  {
   "cell_type": "code",
   "execution_count": 75,
   "id": "7f6df3b6",
   "metadata": {},
   "outputs": [],
   "source": [
    "taxi_tripdata = taxi_tripdata.na.drop(subset=[\"passenger_count\", \"trip_distance\", \"fare_amount\"])\n",
    "taxi_tripdata = taxi_tripdata.where((col(\"passenger_count\") > 0) | (col(\"trip_distance\") > 0) | (col(\"fare_amount\") > 0) )\n",
    "taxi_tripdata = taxi_tripdata.na.fill(value = 0, subset = [\"tolls_amount\", \"congestion_surcharge\"])\n",
    "taxi_tripdata = taxi_tripdata.drop(taxi_tripdata.ehail_fee)\n"
   ]
  },
  {
   "cell_type": "markdown",
   "id": "c0e15e4c",
   "metadata": {},
   "source": [
    "Create new cols"
   ]
  },
  {
   "cell_type": "code",
   "execution_count": 76,
   "id": "233d6b23",
   "metadata": {},
   "outputs": [
    {
     "name": "stdout",
     "output_type": "stream",
     "text": [
      "+--------+--------------------+---------------------+------------------+----------+------------+------------+---------------+-------------+-----------+-----+-------+----------+------------+---------------------+------------+------------+---------+--------------------+-------------------+-----------+\n",
      "|VendorID|lpep_pickup_datetime|lpep_dropoff_datetime|store_and_fwd_flag|RatecodeID|PULocationID|DOLocationID|passenger_count|trip_distance|fare_amount|extra|mta_tax|tip_amount|tolls_amount|improvement_surcharge|total_amount|payment_type|trip_type|congestion_surcharge|          tip_ratio|pickup_hour|\n",
      "+--------+--------------------+---------------------+------------------+----------+------------+------------+---------------+-------------+-----------+-----+-------+----------+------------+---------------------+------------+------------+---------+--------------------+-------------------+-----------+\n",
      "|       1| 2021-07-01 00:30:52|  2021-07-01 00:35:36|                 N|         1|          74|         168|              1|          1.2|        6.0|  0.5|    0.5|       0.0|         0.0|                  0.3|         7.3|           2|        1|                 0.0|                0.0|          0|\n",
      "|       2| 2021-07-01 00:25:36|  2021-07-01 01:01:31|                 N|         1|         116|         265|              2|        13.69|       42.0|  0.5|    0.5|       0.0|         0.0|                  0.3|        43.3|           2|        1|                 0.0|                0.0|          0|\n",
      "|       2| 2021-07-01 00:05:58|  2021-07-01 00:12:00|                 N|         1|          97|          33|              1|         0.95|        6.5|  0.5|    0.5|      2.34|         0.0|                  0.3|       10.14|           1|        1|                 0.0|               0.36|          0|\n",
      "|       2| 2021-07-01 00:41:40|  2021-07-01 00:47:23|                 N|         1|          74|          42|              1|         1.24|        6.5|  0.5|    0.5|       0.0|         0.0|                  0.3|         7.8|           2|        1|                 0.0|                0.0|          0|\n",
      "|       2| 2021-07-01 00:51:32|  2021-07-01 00:58:46|                 N|         1|          42|         244|              1|          1.1|        7.0|  0.5|    0.5|       0.0|         0.0|                  0.3|         8.3|           2|        1|                 0.0|                0.0|          0|\n",
      "|       1| 2021-07-01 00:05:00|  2021-07-01 00:11:50|                 N|         1|          24|         239|              1|          1.9|        8.0| 3.25|    0.5|       3.0|         0.0|                  0.3|       15.05|           1|        1|                2.75|              0.375|          0|\n",
      "|       2| 2021-07-01 00:57:14|  2021-07-01 01:27:43|                 N|         1|          75|         243|              1|          0.0|       17.5|  0.5|    0.5|       0.0|         0.0|                  0.3|        18.8|           2|        1|                 0.0|                0.0|          0|\n",
      "|       2| 2021-07-01 00:27:36|  2021-07-01 00:32:35|                 N|         1|          82|          82|              1|         0.66|        5.0|  0.5|    0.5|       0.0|         0.0|                  0.3|         6.3|           2|        1|                 0.0|                0.0|          0|\n",
      "|       2| 2021-07-01 00:29:09|  2021-07-01 00:34:18|                 N|         1|          74|          42|              1|         1.72|        7.0|  0.5|    0.5|      2.08|         0.0|                  0.3|       10.38|           1|        1|                 0.0|0.29714285714285715|          0|\n",
      "|       2| 2021-07-01 00:41:33|  2021-07-01 00:49:24|                 N|         1|          41|          42|              1|         1.37|        7.5|  0.5|    0.5|       0.0|         0.0|                  0.3|         8.8|           2|        1|                 0.0|                0.0|          0|\n",
      "|       2| 2021-07-01 00:31:14|  2021-07-01 00:40:01|                 N|         1|          74|         236|              1|         2.14|        9.0|  0.5|    0.5|      2.65|         0.0|                  0.3|        15.7|           1|        1|                2.75|0.29444444444444445|          0|\n",
      "|       2| 2021-07-01 00:16:16|  2021-07-01 00:16:21|                 N|         5|         167|         167|              1|         0.01|       13.0|  0.0|    0.0|       0.0|         0.0|                  0.3|        13.3|           2|        1|                 0.0|                0.0|          0|\n",
      "|       2| 2021-06-07 15:15:47|  2021-06-07 16:45:22|                 N|         1|         197|         225|              1|         7.74|       56.0|  0.5|    0.5|       0.0|         0.0|                  0.3|        57.3|           1|        1|                 0.0|                0.0|         15|\n",
      "|       2| 2021-07-01 00:31:21|  2021-07-01 01:06:09|                 N|         1|           7|          23|              1|        25.08|       65.5|  0.5|    0.5|       0.0|        6.55|                  0.3|       73.35|           2|        1|                 0.0|                0.0|          0|\n",
      "|       2| 2021-07-01 00:10:27|  2021-07-01 00:11:06|                 N|         5|         129|         264|              1|          0.0|        7.0|  0.0|    0.0|       0.0|         0.0|                  0.3|         7.3|           2|        2|                 0.0|                0.0|          0|\n",
      "|       2| 2021-07-01 00:12:26|  2021-07-01 00:12:29|                 N|         5|         129|         264|              1|          0.0|        7.0|  0.0|    0.0|      2.19|         0.0|                  0.3|        9.49|           1|        2|                 0.0|0.31285714285714283|          0|\n",
      "|       2| 2021-07-01 00:12:53|  2021-07-01 01:05:27|                 N|         1|         226|          75|              1|         11.4|       42.0|  0.5|    0.5|       0.0|        6.55|                  0.3|       49.85|           1|        1|                 0.0|                0.0|          0|\n",
      "|       2| 2021-07-01 01:08:33|  2021-07-01 01:36:12|                 N|         1|          74|         226|              1|         9.08|       31.0|  0.5|    0.5|       0.0|        6.55|                  0.3|       38.85|           1|        1|                 0.0|                0.0|          1|\n",
      "|       2| 2021-07-01 00:57:57|  2021-07-01 01:02:22|                 N|         1|         168|          42|              1|          1.4|        6.5|  0.5|    0.5|       0.0|         0.0|                  0.3|         7.8|           2|        1|                 0.0|                0.0|          0|\n",
      "|       2| 2021-07-01 00:06:32|  2021-07-01 00:27:55|                 N|         1|         226|         225|              1|         5.76|       19.5|  0.5|    0.5|      4.16|         0.0|                  0.3|       24.96|           1|        1|                 0.0|0.21333333333333335|          0|\n",
      "+--------+--------------------+---------------------+------------------+----------+------------+------------+---------------+-------------+-----------+-----+-------+----------+------------+---------------------+------------+------------+---------+--------------------+-------------------+-----------+\n",
      "only showing top 20 rows\n",
      "\n"
     ]
    }
   ],
   "source": [
    "taxi_tripdata = taxi_tripdata.withColumn(\"tip_ratio\", taxi_tripdata.tip_amount / taxi_tripdata.fare_amount)\n",
    "taxi_tripdata = taxi_tripdata.withColumn('pickup_hour', hour(taxi_tripdata.lpep_pickup_datetime))\n",
    "taxi_tripdata.show()"
   ]
  },
  {
   "cell_type": "markdown",
   "id": "5f2d9a34",
   "metadata": {},
   "source": [
    "Joins"
   ]
  },
  {
   "cell_type": "code",
   "execution_count": 79,
   "id": "b5881f78",
   "metadata": {},
   "outputs": [],
   "source": [
    "tz_pu = taxi_zone.alias(\"tz_pu\")\n",
    "taxi_tripdata_pu_join = taxi_tripdata.alias(\"t\").join(\n",
    "    tz_pu,\n",
    "    col(\"t.PULocationID\") == col(\"tz_pu.LocationID\"),\n",
    "    \"left\"\n",
    ").select(\n",
    "    col(\"t.*\"),\n",
    "    col(\"tz_pu.Zone\").alias(\"PU_Zone\"),\n",
    "    col(\"tz_pu.Borough\").alias(\"PU_Borough\"),\n",
    "    col(\"tz_pu.service_zone\").alias(\"PU_service_zone\")\n",
    ")"
   ]
  },
  {
   "cell_type": "code",
   "execution_count": 80,
   "id": "1aef1f3c",
   "metadata": {},
   "outputs": [],
   "source": [
    "tz_do = taxi_zone.alias(\"tz_do\")\n",
    "taxi_tripdata_pu_du_join = taxi_tripdata_pu_join.alias(\"t_pu\").join(\n",
    "    tz_do,\n",
    "    col(\"t_pu.DOLocationID\") == col(\"tz_do.LocationID\"),\n",
    "    \"left\"\n",
    ").select(\n",
    "    col(\"t_pu.*\"),\n",
    "    col(\"tz_do.Zone\").alias(\"DO_Zone\"),\n",
    "    col(\"tz_do.Borough\").alias(\"DO_Borough\"),\n",
    "    col(\"tz_do.service_zone\").alias(\"DO_service_zone\")\n",
    ")"
   ]
  },
  {
   "cell_type": "code",
   "execution_count": 81,
   "id": "0c66335b",
   "metadata": {},
   "outputs": [
    {
     "name": "stdout",
     "output_type": "stream",
     "text": [
      "+--------+--------------------+---------------------+------------------+----------+------------+------------+---------------+-------------+-----------+-----+-------+----------+------------+---------------------+------------+------------+---------+--------------------+-------------------+-----------+--------------------+----------+---------------+--------------------+-------------+---------------+\n",
      "|VendorID|lpep_pickup_datetime|lpep_dropoff_datetime|store_and_fwd_flag|RatecodeID|PULocationID|DOLocationID|passenger_count|trip_distance|fare_amount|extra|mta_tax|tip_amount|tolls_amount|improvement_surcharge|total_amount|payment_type|trip_type|congestion_surcharge|          tip_ratio|pickup_hour|             PU_Zone|PU_Borough|PU_service_zone|             DO_Zone|   DO_Borough|DO_service_zone|\n",
      "+--------+--------------------+---------------------+------------------+----------+------------+------------+---------------+-------------+-----------+-----+-------+----------+------------+---------------------+------------+------------+---------+--------------------+-------------------+-----------+--------------------+----------+---------------+--------------------+-------------+---------------+\n",
      "|       1| 2021-07-01 00:30:52|  2021-07-01 00:35:36|                 N|         1|          74|         168|              1|          1.2|        6.0|  0.5|    0.5|       0.0|         0.0|                  0.3|         7.3|           2|        1|                 0.0|                0.0|          0|   East Harlem North| Manhattan|      Boro Zone|Mott Haven/Port M...|        Bronx|      Boro Zone|\n",
      "|       2| 2021-07-01 00:25:36|  2021-07-01 01:01:31|                 N|         1|         116|         265|              2|        13.69|       42.0|  0.5|    0.5|       0.0|         0.0|                  0.3|        43.3|           2|        1|                 0.0|                0.0|          0|    Hamilton Heights| Manhattan|      Boro Zone|      Outside of NYC|          N/A|            N/A|\n",
      "|       2| 2021-07-01 00:05:58|  2021-07-01 00:12:00|                 N|         1|          97|          33|              1|         0.95|        6.5|  0.5|    0.5|      2.34|         0.0|                  0.3|       10.14|           1|        1|                 0.0|               0.36|          0|         Fort Greene|  Brooklyn|      Boro Zone|    Brooklyn Heights|     Brooklyn|      Boro Zone|\n",
      "|       2| 2021-07-01 00:41:40|  2021-07-01 00:47:23|                 N|         1|          74|          42|              1|         1.24|        6.5|  0.5|    0.5|       0.0|         0.0|                  0.3|         7.8|           2|        1|                 0.0|                0.0|          0|   East Harlem North| Manhattan|      Boro Zone|Central Harlem North|    Manhattan|      Boro Zone|\n",
      "|       2| 2021-07-01 00:51:32|  2021-07-01 00:58:46|                 N|         1|          42|         244|              1|          1.1|        7.0|  0.5|    0.5|       0.0|         0.0|                  0.3|         8.3|           2|        1|                 0.0|                0.0|          0|Central Harlem North| Manhattan|      Boro Zone|Washington Height...|    Manhattan|      Boro Zone|\n",
      "|       1| 2021-07-01 00:05:00|  2021-07-01 00:11:50|                 N|         1|          24|         239|              1|          1.9|        8.0| 3.25|    0.5|       3.0|         0.0|                  0.3|       15.05|           1|        1|                2.75|              0.375|          0|        Bloomingdale| Manhattan|    Yellow Zone|Upper West Side S...|    Manhattan|    Yellow Zone|\n",
      "|       2| 2021-07-01 00:57:14|  2021-07-01 01:27:43|                 N|         1|          75|         243|              1|          0.0|       17.5|  0.5|    0.5|       0.0|         0.0|                  0.3|        18.8|           2|        1|                 0.0|                0.0|          0|   East Harlem South| Manhattan|      Boro Zone|Washington Height...|    Manhattan|      Boro Zone|\n",
      "|       2| 2021-07-01 00:27:36|  2021-07-01 00:32:35|                 N|         1|          82|          82|              1|         0.66|        5.0|  0.5|    0.5|       0.0|         0.0|                  0.3|         6.3|           2|        1|                 0.0|                0.0|          0|            Elmhurst|    Queens|      Boro Zone|            Elmhurst|       Queens|      Boro Zone|\n",
      "|       2| 2021-07-01 00:29:09|  2021-07-01 00:34:18|                 N|         1|          74|          42|              1|         1.72|        7.0|  0.5|    0.5|      2.08|         0.0|                  0.3|       10.38|           1|        1|                 0.0|0.29714285714285715|          0|   East Harlem North| Manhattan|      Boro Zone|Central Harlem North|    Manhattan|      Boro Zone|\n",
      "|       2| 2021-07-01 00:41:33|  2021-07-01 00:49:24|                 N|         1|          41|          42|              1|         1.37|        7.5|  0.5|    0.5|       0.0|         0.0|                  0.3|         8.8|           2|        1|                 0.0|                0.0|          0|      Central Harlem| Manhattan|      Boro Zone|Central Harlem North|    Manhattan|      Boro Zone|\n",
      "|       2| 2021-07-01 00:31:14|  2021-07-01 00:40:01|                 N|         1|          74|         236|              1|         2.14|        9.0|  0.5|    0.5|      2.65|         0.0|                  0.3|        15.7|           1|        1|                2.75|0.29444444444444445|          0|   East Harlem North| Manhattan|      Boro Zone|Upper East Side N...|    Manhattan|    Yellow Zone|\n",
      "|       2| 2021-07-01 00:16:16|  2021-07-01 00:16:21|                 N|         5|         167|         167|              1|         0.01|       13.0|  0.0|    0.0|       0.0|         0.0|                  0.3|        13.3|           2|        1|                 0.0|                0.0|          0|  Morrisania/Melrose|     Bronx|      Boro Zone|  Morrisania/Melrose|        Bronx|      Boro Zone|\n",
      "|       2| 2021-06-07 15:15:47|  2021-06-07 16:45:22|                 N|         1|         197|         225|              1|         7.74|       56.0|  0.5|    0.5|       0.0|         0.0|                  0.3|        57.3|           1|        1|                 0.0|                0.0|         15|       Richmond Hill|    Queens|      Boro Zone|  Stuyvesant Heights|     Brooklyn|      Boro Zone|\n",
      "|       2| 2021-07-01 00:31:21|  2021-07-01 01:06:09|                 N|         1|           7|          23|              1|        25.08|       65.5|  0.5|    0.5|       0.0|        6.55|                  0.3|       73.35|           2|        1|                 0.0|                0.0|          0|             Astoria|    Queens|      Boro Zone|Bloomfield/Emerso...|Staten Island|      Boro Zone|\n",
      "|       2| 2021-07-01 00:10:27|  2021-07-01 00:11:06|                 N|         5|         129|         264|              1|          0.0|        7.0|  0.0|    0.0|       0.0|         0.0|                  0.3|         7.3|           2|        2|                 0.0|                0.0|          0|     Jackson Heights|    Queens|      Boro Zone|                 N/A|      Unknown|            N/A|\n",
      "|       2| 2021-07-01 00:12:26|  2021-07-01 00:12:29|                 N|         5|         129|         264|              1|          0.0|        7.0|  0.0|    0.0|      2.19|         0.0|                  0.3|        9.49|           1|        2|                 0.0|0.31285714285714283|          0|     Jackson Heights|    Queens|      Boro Zone|                 N/A|      Unknown|            N/A|\n",
      "|       2| 2021-07-01 00:12:53|  2021-07-01 01:05:27|                 N|         1|         226|          75|              1|         11.4|       42.0|  0.5|    0.5|       0.0|        6.55|                  0.3|       49.85|           1|        1|                 0.0|                0.0|          0|           Sunnyside|    Queens|      Boro Zone|   East Harlem South|    Manhattan|      Boro Zone|\n",
      "|       2| 2021-07-01 01:08:33|  2021-07-01 01:36:12|                 N|         1|          74|         226|              1|         9.08|       31.0|  0.5|    0.5|       0.0|        6.55|                  0.3|       38.85|           1|        1|                 0.0|                0.0|          1|   East Harlem North| Manhattan|      Boro Zone|           Sunnyside|       Queens|      Boro Zone|\n",
      "|       2| 2021-07-01 00:57:57|  2021-07-01 01:02:22|                 N|         1|         168|          42|              1|          1.4|        6.5|  0.5|    0.5|       0.0|         0.0|                  0.3|         7.8|           2|        1|                 0.0|                0.0|          0|Mott Haven/Port M...|     Bronx|      Boro Zone|Central Harlem North|    Manhattan|      Boro Zone|\n",
      "|       2| 2021-07-01 00:06:32|  2021-07-01 00:27:55|                 N|         1|         226|         225|              1|         5.76|       19.5|  0.5|    0.5|      4.16|         0.0|                  0.3|       24.96|           1|        1|                 0.0|0.21333333333333335|          0|           Sunnyside|    Queens|      Boro Zone|  Stuyvesant Heights|     Brooklyn|      Boro Zone|\n",
      "+--------+--------------------+---------------------+------------------+----------+------------+------------+---------------+-------------+-----------+-----+-------+----------+------------+---------------------+------------+------------+---------+--------------------+-------------------+-----------+--------------------+----------+---------------+--------------------+-------------+---------------+\n",
      "only showing top 20 rows\n",
      "\n"
     ]
    },
    {
     "name": "stderr",
     "output_type": "stream",
     "text": [
      "25/05/26 15:03:00 WARN SparkStringUtils: Truncated the string representation of a plan since it was too large. This behavior can be adjusted by setting 'spark.sql.debug.maxToStringFields'.\n"
     ]
    }
   ],
   "source": [
    "full_taxi_tripdata = taxi_tripdata_pu_du_join\n",
    "full_taxi_tripdata.show()"
   ]
  }
 ],
 "metadata": {
  "kernelspec": {
   "display_name": "venv",
   "language": "python",
   "name": "python3"
  },
  "language_info": {
   "codemirror_mode": {
    "name": "ipython",
    "version": 3
   },
   "file_extension": ".py",
   "mimetype": "text/x-python",
   "name": "python",
   "nbconvert_exporter": "python",
   "pygments_lexer": "ipython3",
   "version": "3.13.1"
  }
 },
 "nbformat": 4,
 "nbformat_minor": 5
}
